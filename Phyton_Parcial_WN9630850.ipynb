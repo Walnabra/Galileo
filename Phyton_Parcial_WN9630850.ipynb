{
 "cells": [
  {
   "cell_type": "code",
   "execution_count": 9,
   "id": "10a8650b-57b8-4429-ab98-babdcc6f370b",
   "metadata": {},
   "outputs": [
    {
     "name": "stdout",
     "output_type": "stream",
     "text": [
      "\n"
     ]
    },
    {
     "name": "stdin",
     "output_type": "stream",
     "text": [
      "presione ENTER para continuar o digite la palabra EXIT para terminar: \n",
      "presione ENTER para continuar o digite la palabra EXIT para terminar: \n",
      "presione ENTER para continuar o digite la palabra EXIT para terminar: \n",
      "presione ENTER para continuar o digite la palabra EXIT para terminar: \n",
      "presione ENTER para continuar o digite la palabra EXIT para terminar: \n",
      "presione ENTER para continuar o digite la palabra EXIT para terminar: \n",
      "presione ENTER para continuar o digite la palabra EXIT para terminar: \n",
      "presione ENTER para continuar o digite la palabra EXIT para terminar: \n",
      "presione ENTER para continuar o digite la palabra EXIT para terminar: \n",
      "presione ENTER para continuar o digite la palabra EXIT para terminar: \n",
      "presione ENTER para continuar o digite la palabra EXIT para terminar: \n",
      "presione ENTER para continuar o digite la palabra EXIT para terminar: \n",
      "presione ENTER para continuar o digite la palabra EXIT para terminar: \n",
      "presione ENTER para continuar o digite la palabra EXIT para terminar: \n",
      "presione ENTER para continuar o digite la palabra EXIT para terminar: Exit\n"
     ]
    },
    {
     "name": "stdout",
     "output_type": "stream",
     "text": [
      "\n",
      "Se generaron  7 codigos VALIDOS\n",
      "{44: 'P9E3M9B9S6U7Y1', 32: 'I6I6C4D3O9C0C4', 37: 'R6C9A2Q7Z0P6Y7', 35: 'P6X4A0G5E5H9E6', 31: 'A1K9F3Q5V1F3N9', 34: 'M3F8R0F7Y9Z3U4'}\n",
      "Y los codigos invalidos son:\n",
      "['D0E0A2R2O2H9K8', 'A2T3R1U6F3E4Y5', 'X2Q1O6S0Q4C6B4', 'N0C2A5M1U4M8A0', 'T5R4O4J0Y5S4T4', 'P4E4N0A8Y4S3U6', 'S9S6B1S1K3U5M0']\n"
     ]
    }
   ],
   "source": [
    "import random\n",
    "arrLetras = []\n",
    "strLetras = 'ABCDEFGHIJKLMNOPQRSTUVWXYZ'\n",
    "arrLetras.extend(strLetras)\n",
    "lista_noval = []\n",
    "diccion = {}\n",
    "conteo_cod = 0\n",
    "def corre():\n",
    "    strSalidaL = ''\n",
    "    for i in range(1, 8, 1):\n",
    "      alLetra = random.randint(0, len(arrLetras) - 1)\n",
    "      alNum = random.randint(0, 9)\n",
    "      strSalidaL = strSalidaL + arrLetras[alLetra] + str(alNum)\n",
    "    lista = strSalidaL\n",
    "    p1 = int(lista[1])\n",
    "    p2 = int(lista[3])\n",
    "    p3 = int(lista[5])\n",
    "    p4 = int(lista[7])\n",
    "    p5 = int(lista[9])\n",
    "    p6 = int(lista[11])\n",
    "    p7 = int(lista[13])\n",
    "    sum_alNum = p1 + p2 + p3 + p4 + p5 + p6 + p7\n",
    "    if(sum_alNum > 30):\n",
    "        diccion[sum_alNum] = strSalidaL\n",
    "    else:\n",
    "        lista_noval.append(strSalidaL)\n",
    "print('')\n",
    "enter = input(\"Presione ENTER para continuar o digite la palabra EXIT para terminar:\")\n",
    "while enter.upper() != 'EXIT':\n",
    "    enter = input(\"Presione ENTER para continuar o digite la palabra EXIT para terminar:\")\n",
    "    corre()\n",
    "    conteo_cod += 1  \n",
    "    \n",
    "print('')\n",
    "print(\"Se generaron \", conteo_cod - len(lista_noval), \"codigos VALIDOS\")\n",
    "print(diccion)\n",
    "print(\"Y los codigos invalidos son:\")\n",
    "print(lista_noval)"
   ]
  },
  {
   "cell_type": "code",
   "execution_count": null,
   "id": "24723a39-f6b3-4d15-8a16-cd34af4e0e09",
   "metadata": {},
   "outputs": [],
   "source": []
  }
 ],
 "metadata": {
  "kernelspec": {
   "display_name": "Python 3 (ipykernel)",
   "language": "python",
   "name": "python3"
  },
  "language_info": {
   "codemirror_mode": {
    "name": "ipython",
    "version": 3
   },
   "file_extension": ".py",
   "mimetype": "text/x-python",
   "name": "python",
   "nbconvert_exporter": "python",
   "pygments_lexer": "ipython3",
   "version": "3.9.7"
  }
 },
 "nbformat": 4,
 "nbformat_minor": 5
}
