{
 "cells": [
  {
   "cell_type": "code",
   "execution_count": 135,
   "id": "1c57c5fe-9fa6-4ccb-8d67-95c9957e6ca7",
   "metadata": {},
   "outputs": [],
   "source": [
    "import pandas as pd\n",
    "import numpy as np\n",
    "import matplotlib.pyplot as plt"
   ]
  },
  {
   "cell_type": "markdown",
   "id": "8503f21b-ebe6-4eca-b91c-3b093bbf13b4",
   "metadata": {},
   "source": [
    "# Carga del 1er Dataset"
   ]
  },
  {
   "cell_type": "code",
   "execution_count": 136,
   "id": "b8b7c575-bf57-4391-81a1-30c0877aef39",
   "metadata": {},
   "outputs": [],
   "source": [
    "data_sales = pd.read_excel(\"SalesTP.xlsx\")"
   ]
  },
  {
   "cell_type": "code",
   "execution_count": 137,
   "id": "1b75da02-44ff-4ce9-a3e6-4fa6ab612dab",
   "metadata": {},
   "outputs": [
    {
     "data": {
      "text/plain": [
       "(1452, 5)"
      ]
     },
     "execution_count": 137,
     "metadata": {},
     "output_type": "execute_result"
    }
   ],
   "source": [
    "data_sales.shape"
   ]
  },
  {
   "cell_type": "code",
   "execution_count": 138,
   "id": "a8de8170-dacf-4270-a216-dc1077876ba9",
   "metadata": {},
   "outputs": [
    {
     "data": {
      "text/html": [
       "<div>\n",
       "<style scoped>\n",
       "    .dataframe tbody tr th:only-of-type {\n",
       "        vertical-align: middle;\n",
       "    }\n",
       "\n",
       "    .dataframe tbody tr th {\n",
       "        vertical-align: top;\n",
       "    }\n",
       "\n",
       "    .dataframe thead th {\n",
       "        text-align: right;\n",
       "    }\n",
       "</style>\n",
       "<table border=\"1\" class=\"dataframe\">\n",
       "  <thead>\n",
       "    <tr style=\"text-align: right;\">\n",
       "      <th></th>\n",
       "      <th>Code</th>\n",
       "      <th>Tre</th>\n",
       "      <th>Unitcost</th>\n",
       "      <th>Qty</th>\n",
       "      <th>Sales</th>\n",
       "    </tr>\n",
       "  </thead>\n",
       "  <tbody>\n",
       "    <tr>\n",
       "      <th>0</th>\n",
       "      <td>a1</td>\n",
       "      <td>60</td>\n",
       "      <td>65.0</td>\n",
       "      <td>8450</td>\n",
       "      <td>208500</td>\n",
       "    </tr>\n",
       "    <tr>\n",
       "      <th>1</th>\n",
       "      <td>a2</td>\n",
       "      <td>20</td>\n",
       "      <td>80.0</td>\n",
       "      <td>9600</td>\n",
       "      <td>181500</td>\n",
       "    </tr>\n",
       "    <tr>\n",
       "      <th>2</th>\n",
       "      <td>a3</td>\n",
       "      <td>60</td>\n",
       "      <td>68.0</td>\n",
       "      <td>11250</td>\n",
       "      <td>223500</td>\n",
       "    </tr>\n",
       "    <tr>\n",
       "      <th>3</th>\n",
       "      <td>a4</td>\n",
       "      <td>70</td>\n",
       "      <td>60.0</td>\n",
       "      <td>9550</td>\n",
       "      <td>140000</td>\n",
       "    </tr>\n",
       "    <tr>\n",
       "      <th>4</th>\n",
       "      <td>a5</td>\n",
       "      <td>60</td>\n",
       "      <td>84.0</td>\n",
       "      <td>14260</td>\n",
       "      <td>250000</td>\n",
       "    </tr>\n",
       "  </tbody>\n",
       "</table>\n",
       "</div>"
      ],
      "text/plain": [
       "  Code  Tre  Unitcost    Qty   Sales\n",
       "0   a1   60      65.0   8450  208500\n",
       "1   a2   20      80.0   9600  181500\n",
       "2   a3   60      68.0  11250  223500\n",
       "3   a4   70      60.0   9550  140000\n",
       "4   a5   60      84.0  14260  250000"
      ]
     },
     "execution_count": 138,
     "metadata": {},
     "output_type": "execute_result"
    }
   ],
   "source": [
    "data_sales.head()"
   ]
  },
  {
   "cell_type": "markdown",
   "id": "0038f3d3-3c71-459c-86c2-20abbd49ee7b",
   "metadata": {},
   "source": [
    "### Funcion para identificar columnas con NA"
   ]
  },
  {
   "cell_type": "code",
   "execution_count": null,
   "id": "2c02bd25-4378-4262-ba43-50d13e8e076b",
   "metadata": {},
   "outputs": [],
   "source": [
    "def getNanColNames(df):\n",
    "    colnames = df.columns\n",
    "    cols_con_na = []\n",
    "    for col in colnames:\n",
    "        if(df[col].isnull().sum() > 0):\n",
    "            cols_con_na.append(col)\n",
    "    return cols_con_na"
   ]
  },
  {
   "cell_type": "code",
   "execution_count": null,
   "id": "208164ec-190a-44a3-afed-4c8517c18596",
   "metadata": {},
   "outputs": [],
   "source": [
    "cols_con_nan = getNanColNames(data_sales)\n",
    "cols_con_nan"
   ]
  },
  {
   "cell_type": "code",
   "execution_count": null,
   "id": "4c716f27-96e6-4ce2-bc13-22d2597d0f37",
   "metadata": {},
   "outputs": [],
   "source": [
    "data_sales[cols_con_nan].dtypes"
   ]
  },
  {
   "cell_type": "markdown",
   "id": "cf5dc8c3-be95-48ea-9f45-2a71000ba366",
   "metadata": {},
   "source": [
    "### Verificar proporcion de NAs"
   ]
  },
  {
   "cell_type": "code",
   "execution_count": null,
   "id": "a90618e1-61d2-47d7-b12e-16bcbef3b1a6",
   "metadata": {},
   "outputs": [],
   "source": [
    "data_sales[cols_con_nan].isnull().mean() # se identifica la proporcion de Nans de Unitcost con 18% y tipo numerica"
   ]
  },
  {
   "cell_type": "markdown",
   "id": "89ef18b7-721b-4665-bd36-1274e0a2c1a1",
   "metadata": {},
   "source": [
    "### Cantidad de Nans"
   ]
  },
  {
   "cell_type": "code",
   "execution_count": null,
   "id": "532ddbbc-0405-49e2-9032-e5a7086bf1fa",
   "metadata": {},
   "outputs": [],
   "source": [
    "data_sales['Unitcost'].isnull().sum()"
   ]
  },
  {
   "cell_type": "code",
   "execution_count": null,
   "id": "4c945799-e851-4773-813f-03b5a78ede5a",
   "metadata": {},
   "outputs": [],
   "source": [
    "data_sales['Unitcost'].plot.density(color=\"red\")\n",
    "plt.show()"
   ]
  },
  {
   "cell_type": "code",
   "execution_count": null,
   "id": "614fd470-596e-4714-84a0-a8e0c4284b8d",
   "metadata": {},
   "outputs": [],
   "source": [
    "meanValue = np.round(data_sales['Unitcost'].mean(), 0)\n",
    "medianValue = np.round(data_sales['Unitcost'].median(), 0)"
   ]
  },
  {
   "cell_type": "code",
   "execution_count": null,
   "id": "e2b3bf07-c9aa-429d-abec-7b41aaa9f149",
   "metadata": {},
   "outputs": [],
   "source": [
    "meanValue"
   ]
  },
  {
   "cell_type": "code",
   "execution_count": null,
   "id": "8a0a761e-2f84-4be2-bdb4-fb427ad9aff0",
   "metadata": {},
   "outputs": [],
   "source": [
    "medianValue"
   ]
  },
  {
   "cell_type": "markdown",
   "id": "e77b71cd-f42c-4f5f-9f0a-2a0a7493e742",
   "metadata": {},
   "source": [
    "### Imputación de mediana"
   ]
  },
  {
   "cell_type": "code",
   "execution_count": null,
   "id": "89f326c8-6eda-4403-98d2-fa879064bc05",
   "metadata": {},
   "outputs": [],
   "source": [
    "Imput_mean_datah = data_sales['Unitcost'].fillna(meanValue)"
   ]
  },
  {
   "cell_type": "code",
   "execution_count": null,
   "id": "fb3aa309-aaeb-4ae5-a694-1b564c6c4a65",
   "metadata": {},
   "outputs": [],
   "source": [
    "fig = plt.figure()\n",
    "fig.add_subplot(111)\n",
    "\n",
    "data_sales['Unitcost'].plot.density(color=\"red\")\n",
    "Imput_mean_datah.plot.density(color=\"blue\")\n",
    "plt.show()"
   ]
  },
  {
   "cell_type": "code",
   "execution_count": null,
   "id": "6ff8ba7a-aa6e-4dbe-b258-93ab29e0d78a",
   "metadata": {},
   "outputs": [],
   "source": [
    "data_sales['Unitcost'] = data_sales['Unitcost'].fillna(meanValue)"
   ]
  },
  {
   "cell_type": "code",
   "execution_count": null,
   "id": "0c4e7bb0-d887-4d73-93f5-bdbd7780a436",
   "metadata": {},
   "outputs": [],
   "source": [
    "data_sales['Unitcost'].isnull().sum()"
   ]
  },
  {
   "cell_type": "markdown",
   "id": "5341bdf5-76c5-4f52-8d29-f10144c7058f",
   "metadata": {},
   "source": [
    "# Carga del 2do Dataset"
   ]
  },
  {
   "cell_type": "code",
   "execution_count": null,
   "id": "670e9f84-6fe9-4018-b15d-1517ce3539cd",
   "metadata": {},
   "outputs": [],
   "source": [
    "data_HBC = pd.read_excel(\"Height_by_Country.xlsx\")\n",
    "data_HBC.shape"
   ]
  },
  {
   "cell_type": "code",
   "execution_count": null,
   "id": "5074f16b-44a6-4740-b4e1-1f5a176edf19",
   "metadata": {},
   "outputs": [],
   "source": [
    "data_HBC.head()"
   ]
  },
  {
   "cell_type": "markdown",
   "id": "a8157246-954a-4db9-9717-df04e12d7d32",
   "metadata": {},
   "source": [
    "### Identificar columnas con NA"
   ]
  },
  {
   "cell_type": "code",
   "execution_count": null,
   "id": "c18b6e79-752d-4aa6-a392-d903bfc48317",
   "metadata": {},
   "outputs": [],
   "source": [
    "cols_con_nan2 = getNanColNames(data_HBC)\n",
    "cols_con_nan2"
   ]
  },
  {
   "cell_type": "code",
   "execution_count": null,
   "id": "a9d8f1ec-0ae8-4a09-91ac-96828191ad90",
   "metadata": {},
   "outputs": [],
   "source": [
    "data_HBC[cols_con_nan2].dtypes"
   ]
  },
  {
   "cell_type": "markdown",
   "id": "d595bfe8-da11-4db8-9bb5-86563cfd7d21",
   "metadata": {},
   "source": [
    "### Verificar proporcion de NAs"
   ]
  },
  {
   "cell_type": "code",
   "execution_count": null,
   "id": "1858ea1b-e4a8-457f-8417-fcecde069a0d",
   "metadata": {},
   "outputs": [],
   "source": [
    "data_HBC[cols_con_nan2].isnull().mean() # se identifica la proporcion de Nans de Female Height in Ct con 19% y tipo numerica"
   ]
  },
  {
   "cell_type": "code",
   "execution_count": null,
   "id": "97c09b41-081b-4b22-8b85-4406a17b2eca",
   "metadata": {},
   "outputs": [],
   "source": [
    "data_HBC['Female Height in Cm'].isnull().sum()"
   ]
  },
  {
   "cell_type": "code",
   "execution_count": null,
   "id": "66556a72-1c21-42bc-b61b-0ab6cabc91b6",
   "metadata": {},
   "outputs": [],
   "source": [
    "data_HBC['Female Height in Cm'].plot.density(color=\"red\")\n",
    "plt.show()"
   ]
  },
  {
   "cell_type": "code",
   "execution_count": null,
   "id": "c7823eab-c23f-426d-bb17-3f127734c9ad",
   "metadata": {},
   "outputs": [],
   "source": [
    "meanValue2 = np.round(data_HBC['Female Height in Cm'].mean(), 0)\n",
    "medianValue2 = np.round(data_HBC['Female Height in Cm'].median(), 0)"
   ]
  },
  {
   "cell_type": "code",
   "execution_count": null,
   "id": "f0a6d102-7a86-4605-90e6-32d4d4a46d3c",
   "metadata": {},
   "outputs": [],
   "source": [
    "meanValue2"
   ]
  },
  {
   "cell_type": "code",
   "execution_count": null,
   "id": "ef94387c-489b-4e42-aaec-df1c8d31f805",
   "metadata": {},
   "outputs": [],
   "source": [
    "medianValue2"
   ]
  },
  {
   "cell_type": "code",
   "execution_count": null,
   "id": "7f904703-59fa-49e3-8e85-508e7589835f",
   "metadata": {},
   "outputs": [],
   "source": [
    "Imput_mean_dataHBC = data_HBC['Female Height in Cm'].fillna(meanValue2)\n",
    "Imput_median_dataHBC = data_HBC['Female Height in Cm'].fillna(medianValue2)"
   ]
  },
  {
   "cell_type": "code",
   "execution_count": null,
   "id": "9c22e489-9e19-41cd-8efd-fe36d872ff30",
   "metadata": {},
   "outputs": [],
   "source": [
    "fig1 = plt.figure()\n",
    "fig1.add_subplot(111)\n",
    "\n",
    "data_HBC['Female Height in Cm'].plot.density(color=\"red\")\n",
    "Imput_mean_dataHBC.plot.density(color=\"blue\")\n",
    "Imput_median_dataHBC.plot.density(color=\"black\")\n",
    "plt.show()"
   ]
  },
  {
   "cell_type": "code",
   "execution_count": null,
   "id": "3482bff1-ef1a-43db-8917-2f8972a169f5",
   "metadata": {},
   "outputs": [],
   "source": [
    "np.corrcoef(Imput_mean_dataHBC, data_HBC['Male Height in Cm'])[0,1] ## Se define la media como dato para imputar por la alta correlación que tiene"
   ]
  },
  {
   "cell_type": "code",
   "execution_count": null,
   "id": "4092d92e-0796-4a4b-a8e0-935289821d80",
   "metadata": {},
   "outputs": [],
   "source": [
    "np.corrcoef(Imput_median_dataHBC, data_HBC['Male Height in Cm'])[0,1] "
   ]
  },
  {
   "cell_type": "code",
   "execution_count": 133,
   "id": "2e7c2907-adfa-45f8-8c2f-f8df9beccb8f",
   "metadata": {},
   "outputs": [],
   "source": [
    "data_HBC['Female Height in Cm'] = data_HBC['Female Height in Cm'].fillna(meanValue)"
   ]
  },
  {
   "cell_type": "code",
   "execution_count": 134,
   "id": "b59238b0-dcd4-4110-8e40-2233f38f8c34",
   "metadata": {},
   "outputs": [
    {
     "data": {
      "text/plain": [
       "0"
      ]
     },
     "execution_count": 134,
     "metadata": {},
     "output_type": "execute_result"
    }
   ],
   "source": [
    "data_HBC['Female Height in Cm'].isnull().sum()"
   ]
  },
  {
   "cell_type": "markdown",
   "id": "9499e41c-a83a-49bc-b9b8-91c2533dccfa",
   "metadata": {},
   "source": [
    "# Carga del 3er Dataset"
   ]
  },
  {
   "cell_type": "code",
   "execution_count": 139,
   "id": "ad223906-0e60-4d50-a3db-273f7e526ab5",
   "metadata": {},
   "outputs": [
    {
     "data": {
      "text/plain": [
       "(200, 3)"
      ]
     },
     "execution_count": 139,
     "metadata": {},
     "output_type": "execute_result"
    }
   ],
   "source": [
    "data_SIQ = pd.read_excel(\"student_IQ.xlsx\")\n",
    "data_SIQ.shape"
   ]
  },
  {
   "cell_type": "code",
   "execution_count": 140,
   "id": "20515ed7-55ec-49ca-958a-13c916838c45",
   "metadata": {},
   "outputs": [
    {
     "data": {
      "text/html": [
       "<div>\n",
       "<style scoped>\n",
       "    .dataframe tbody tr th:only-of-type {\n",
       "        vertical-align: middle;\n",
       "    }\n",
       "\n",
       "    .dataframe tbody tr th {\n",
       "        vertical-align: top;\n",
       "    }\n",
       "\n",
       "    .dataframe thead th {\n",
       "        text-align: right;\n",
       "    }\n",
       "</style>\n",
       "<table border=\"1\" class=\"dataframe\">\n",
       "  <thead>\n",
       "    <tr style=\"text-align: right;\">\n",
       "      <th></th>\n",
       "      <th>StudentID</th>\n",
       "      <th>cgpa</th>\n",
       "      <th>iq</th>\n",
       "    </tr>\n",
       "  </thead>\n",
       "  <tbody>\n",
       "    <tr>\n",
       "      <th>0</th>\n",
       "      <td>Stc1</td>\n",
       "      <td>4.60</td>\n",
       "      <td>NaN</td>\n",
       "    </tr>\n",
       "    <tr>\n",
       "      <th>1</th>\n",
       "      <td>Stc2</td>\n",
       "      <td>4.67</td>\n",
       "      <td>86.0</td>\n",
       "    </tr>\n",
       "    <tr>\n",
       "      <th>2</th>\n",
       "      <td>Stc3</td>\n",
       "      <td>4.68</td>\n",
       "      <td>87.0</td>\n",
       "    </tr>\n",
       "    <tr>\n",
       "      <th>3</th>\n",
       "      <td>Stc4</td>\n",
       "      <td>4.68</td>\n",
       "      <td>89.0</td>\n",
       "    </tr>\n",
       "    <tr>\n",
       "      <th>4</th>\n",
       "      <td>Stc5</td>\n",
       "      <td>4.76</td>\n",
       "      <td>90.0</td>\n",
       "    </tr>\n",
       "  </tbody>\n",
       "</table>\n",
       "</div>"
      ],
      "text/plain": [
       "  StudentID  cgpa    iq\n",
       "0      Stc1  4.60   NaN\n",
       "1      Stc2  4.67  86.0\n",
       "2      Stc3  4.68  87.0\n",
       "3      Stc4  4.68  89.0\n",
       "4      Stc5  4.76  90.0"
      ]
     },
     "execution_count": 140,
     "metadata": {},
     "output_type": "execute_result"
    }
   ],
   "source": [
    "data_SIQ.head()"
   ]
  },
  {
   "cell_type": "code",
   "execution_count": 141,
   "id": "eeff1c4a-3534-4b29-90f8-b30e9c8f3bb7",
   "metadata": {},
   "outputs": [
    {
     "data": {
      "text/plain": [
       "['iq']"
      ]
     },
     "execution_count": 141,
     "metadata": {},
     "output_type": "execute_result"
    }
   ],
   "source": [
    "cols_con_nan3 = getNanColNames(data_SIQ)\n",
    "cols_con_nan3"
   ]
  },
  {
   "cell_type": "code",
   "execution_count": 142,
   "id": "783834c4-b74c-4247-8b84-440230a2e25a",
   "metadata": {},
   "outputs": [
    {
     "data": {
      "text/plain": [
       "iq    float64\n",
       "dtype: object"
      ]
     },
     "execution_count": 142,
     "metadata": {},
     "output_type": "execute_result"
    }
   ],
   "source": [
    "data_SIQ[cols_con_nan3].dtypes"
   ]
  },
  {
   "cell_type": "code",
   "execution_count": 143,
   "id": "60a4637b-8f37-4ac3-84af-2f16597a06e7",
   "metadata": {},
   "outputs": [
    {
     "data": {
      "text/plain": [
       "iq    0.155\n",
       "dtype: float64"
      ]
     },
     "execution_count": 143,
     "metadata": {},
     "output_type": "execute_result"
    }
   ],
   "source": [
    "data_SIQ[cols_con_nan3].isnull().mean() # se identifica la proporcion de Nans de Female Height in Ct con 16% y tipo numerica"
   ]
  },
  {
   "cell_type": "code",
   "execution_count": 144,
   "id": "ff5ef0f5-2cac-4478-8fc1-f2584aaf51b0",
   "metadata": {},
   "outputs": [
    {
     "data": {
      "text/plain": [
       "31"
      ]
     },
     "execution_count": 144,
     "metadata": {},
     "output_type": "execute_result"
    }
   ],
   "source": [
    "data_SIQ['iq'].isnull().sum()"
   ]
  },
  {
   "cell_type": "code",
   "execution_count": 145,
   "id": "75c1d364-ec32-496f-bd80-71bb098a7172",
   "metadata": {},
   "outputs": [
    {
     "data": {
      "image/png": "[encoded data removed]",
      "text/plain": [
       "<Figure size 432x288 with 1 Axes>"
      ]
     },
     "metadata": {
      "needs_background": "light"
     },
     "output_type": "display_data"
    }
   ],
   "source": [
    "data_SIQ['iq'].plot.density(color=\"red\")\n",
    "plt.show()"
   ]
  },
  {
   "cell_type": "code",
   "execution_count": 146,
   "id": "c249dfd6-e0a1-411d-a20c-a1c72dcc1036",
   "metadata": {},
   "outputs": [],
   "source": [
    "meanValue3 = np.round(data_SIQ['iq'].mean(), 0)\n",
    "medianValue3 = np.round(data_SIQ['iq'].median(), 0)"
   ]
  },
  {
   "cell_type": "code",
   "execution_count": 147,
   "id": "72976ad8-fdc9-4fd8-8745-84551f3b0f6a",
   "metadata": {},
   "outputs": [
    {
     "data": {
      "text/plain": [
       "102.0"
      ]
     },
     "execution_count": 147,
     "metadata": {},
     "output_type": "execute_result"
    }
   ],
   "source": [
    "meanValue3"
   ]
  },
  {
   "cell_type": "code",
   "execution_count": 148,
   "id": "a436b11d-818e-4a9d-864c-3191414fb881",
   "metadata": {},
   "outputs": [
    {
     "data": {
      "text/plain": [
       "107.0"
      ]
     },
     "execution_count": 148,
     "metadata": {},
     "output_type": "execute_result"
    }
   ],
   "source": [
    "medianValue3"
   ]
  },
  {
   "cell_type": "code",
   "execution_count": 149,
   "id": "e415f03a-1c62-4f7b-ab75-70b7a6063212",
   "metadata": {},
   "outputs": [],
   "source": [
    "Imput_mean_dataSIQ = data_SIQ['iq'].fillna(meanValue3)\n",
    "Imput_median_dataSIQ = data_SIQ['iq'].fillna(medianValue3)"
   ]
  },
  {
   "cell_type": "code",
   "execution_count": 150,
   "id": "714d95a1-7230-471b-beb6-5875a3ded652",
   "metadata": {},
   "outputs": [
    {
     "data": {
      "image/png": "[encoded data removed]",
      "text/plain": [
       "<Figure size 432x288 with 1 Axes>"
      ]
     },
     "metadata": {
      "needs_background": "light"
     },
     "output_type": "display_data"
    }
   ],
   "source": [
    "fig2 = plt.figure()\n",
    "fig2.add_subplot(111)\n",
    "\n",
    "data_SIQ['iq'].plot.density(color=\"red\")\n",
    "Imput_mean_dataSIQ.plot.density(color=\"blue\")\n",
    "Imput_median_dataSIQ.plot.density(color=\"black\")\n",
    "plt.show()"
   ]
  },
  {
   "cell_type": "code",
   "execution_count": 152,
   "id": "593ef7d0-a694-42fa-bfc8-5a53bf6bc280",
   "metadata": {},
   "outputs": [
    {
     "data": {
      "text/plain": [
       "0.5349860499805374"
      ]
     },
     "execution_count": 152,
     "metadata": {},
     "output_type": "execute_result"
    }
   ],
   "source": [
    "np.corrcoef(Imput_mean_dataSIQ, data_SIQ['cgpa'])[0,1] ## Se define la media como dato para imputar por tener la correlación mas alta"
   ]
  },
  {
   "cell_type": "code",
   "execution_count": 153,
   "id": "648879ef-2377-4c90-be7c-eac921288504",
   "metadata": {},
   "outputs": [
    {
     "data": {
      "text/plain": [
       "0.5169312022654059"
      ]
     },
     "execution_count": 153,
     "metadata": {},
     "output_type": "execute_result"
    }
   ],
   "source": [
    "np.corrcoef(Imput_median_dataSIQ, data_SIQ['cgpa'])[0,1]"
   ]
  },
  {
   "cell_type": "code",
   "execution_count": 154,
   "id": "b10649ee-0e26-4132-819a-d6f375e5d8ee",
   "metadata": {},
   "outputs": [],
   "source": [
    "data_SIQ['iq'] = data_SIQ['iq'].fillna(meanValue)"
   ]
  },
  {
   "cell_type": "code",
   "execution_count": 155,
   "id": "af0d49c1-ebf0-4881-bd3d-9e22de8eb6bc",
   "metadata": {},
   "outputs": [
    {
     "data": {
      "text/plain": [
       "0"
      ]
     },
     "execution_count": 155,
     "metadata": {},
     "output_type": "execute_result"
    }
   ],
   "source": [
    "data_SIQ['iq'].isnull().sum()"
   ]
  },
  {
   "cell_type": "code",
   "execution_count": null,
   "id": "83a15713-0226-49c7-a6ad-8a5b31443b7c",
   "metadata": {},
   "outputs": [],
   "source": []
  }
 ],
 "metadata": {
  "kernelspec": {
   "display_name": "Python 3 (ipykernel)",
   "language": "python",
   "name": "python3"
  },
  "language_info": {
   "codemirror_mode": {
    "name": "ipython",
    "version": 3
   },
   "file_extension": ".py",
   "mimetype": "text/x-python",
   "name": "python",
   "nbconvert_exporter": "python",
   "pygments_lexer": "ipython3",
   "version": "3.9.7"
  }
 },
 "nbformat": 4,
 "nbformat_minor": 5
}
